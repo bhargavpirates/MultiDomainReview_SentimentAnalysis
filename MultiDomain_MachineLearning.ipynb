{
  "nbformat": 4,
  "nbformat_minor": 0,
  "metadata": {
    "colab": {
      "name": "MultiDomain_MachineLearning.ipynb",
      "version": "0.3.2",
      "provenance": [],
      "collapsed_sections": [],
      "include_colab_link": true
    },
    "kernelspec": {
      "name": "python3",
      "display_name": "Python 3"
    }
  },
  "cells": [
    {
      "cell_type": "markdown",
      "metadata": {
        "id": "view-in-github",
        "colab_type": "text"
      },
      "source": [
        "<a href=\"https://colab.research.google.com/github/bhargavpirates/MultiDomainReview_SentimentAnalysis/blob/master/MultiDomain_MachineLearning.ipynb\" target=\"_parent\"><img src=\"https://colab.research.google.com/assets/colab-badge.svg\" alt=\"Open In Colab\"/></a>"
      ]
    },
    {
      "cell_type": "markdown",
      "metadata": {
        "id": "1WYBnJB5OWJJ",
        "colab_type": "text"
      },
      "source": [
        " ## Sentiment analysis on DomainSentiment Data\n"
      ]
    },
    {
      "cell_type": "markdown",
      "metadata": {
        "id": "7jfcPGd0PoBC",
        "colab_type": "text"
      },
      "source": [
        "### import Libraries"
      ]
    },
    {
      "cell_type": "code",
      "metadata": {
        "id": "6lWE12i5TLoQ",
        "colab_type": "code",
        "colab": {}
      },
      "source": [
        "%matplotlib inline\n",
        "import warnings\n",
        "warnings.filterwarnings(\"ignore\")\n",
        "\n",
        "\n",
        "import pandas as pd\n",
        "import numpy as np\n",
        "import nltk\n",
        "import string\n",
        "import matplotlib.pyplot as plt\n",
        "import seaborn as sns\n",
        "\n",
        "import string\n",
        "from nltk.corpus import stopwords\n",
        "from nltk.stem.wordnet import WordNetLemmatizer\n",
        "import pickle\n",
        "\n",
        "from tqdm import tqdm\n",
        "import os\n",
        "\n",
        "\n",
        "from sklearn.feature_extraction.text import TfidfTransformer\n",
        "from sklearn.feature_extraction.text import TfidfVectorizer\n",
        "from sklearn.feature_extraction.text import CountVectorizer\n",
        "\n",
        "from sklearn.metrics import confusion_matrix\n",
        "from sklearn.metrics import accuracy_score\n",
        "from sklearn import metrics\n",
        "from sklearn.metrics import roc_curve, auc\n",
        "\n",
        "#from gensim.models import Word2Vec\n",
        "#from gensim.models import KeyedVectors\n",
        "import pickle\n",
        "\n",
        "from tqdm import tqdm\n",
        "\n",
        "\n",
        "from sklearn.metrics import roc_auc_score\n",
        "from sklearn.metrics import auc\n",
        "from sklearn.metrics import accuracy_score\n",
        "from sklearn.metrics import confusion_matrix\n",
        "from sklearn.metrics import classification_report\n",
        "from sklearn.metrics import precision_score\n",
        "from sklearn.metrics import recall_score\n",
        "from sklearn.metrics import f1_score"
      ],
      "execution_count": 0,
      "outputs": []
    },
    {
      "cell_type": "markdown",
      "metadata": {
        "id": "YznrqLxyPtIQ",
        "colab_type": "text"
      },
      "source": [
        "### working this problem on googleCollab So mounting Google DRive data into Collab"
      ]
    },
    {
      "cell_type": "code",
      "metadata": {
        "id": "wgfkCB2bTNZf",
        "colab_type": "code",
        "colab": {
          "base_uri": "https://localhost:8080/",
          "height": 121
        },
        "outputId": "4c195972-86a2-4f95-f976-ad02714e3e25"
      },
      "source": [
        "from google.colab import drive\n",
        "drive.mount('/content/drive')"
      ],
      "execution_count": 3,
      "outputs": [
        {
          "output_type": "stream",
          "text": [
            "Go to this URL in a browser: https://accounts.google.com/o/oauth2/auth?client_id=947318989803-6bn6qk8qdgf4n4g3pfee6491hc0brc4i.apps.googleusercontent.com&redirect_uri=urn%3Aietf%3Awg%3Aoauth%3A2.0%3Aoob&scope=email%20https%3A%2F%2Fwww.googleapis.com%2Fauth%2Fdocs.test%20https%3A%2F%2Fwww.googleapis.com%2Fauth%2Fdrive%20https%3A%2F%2Fwww.googleapis.com%2Fauth%2Fdrive.photos.readonly%20https%3A%2F%2Fwww.googleapis.com%2Fauth%2Fpeopleapi.readonly&response_type=code\n",
            "\n",
            "Enter your authorization code:\n",
            "··········\n",
            "Mounted at /content/drive\n"
          ],
          "name": "stdout"
        }
      ]
    },
    {
      "cell_type": "code",
      "metadata": {
        "id": "IRhGSsO-TO9z",
        "colab_type": "code",
        "colab": {}
      },
      "source": [
        "!cp -r  \"/content/drive/My Drive/domain_sentiment_data.tar/sorted_data_acl/books\" \"books\"\n",
        "!cp -r  \"/content/drive/My Drive/domain_sentiment_data.tar/sorted_data_acl/dvd\" \"dvd\"\n",
        "!cp -r  \"/content/drive/My Drive/domain_sentiment_data.tar/sorted_data_acl/electronics\" \"electronics\"\n",
        "!cp -r  \"/content/drive/My Drive/domain_sentiment_data.tar/sorted_data_acl/kitchen_&_housewares\" \"kitchen_&_housewares\""
      ],
      "execution_count": 0,
      "outputs": []
    },
    {
      "cell_type": "markdown",
      "metadata": {
        "id": "8uRDYgFXP5wD",
        "colab_type": "text"
      },
      "source": [
        "## From XML Data extracting requried ReviewText Data and storing them in a .txt file"
      ]
    },
    {
      "cell_type": "code",
      "metadata": {
        "id": "Kz7m8L8dTRtS",
        "colab_type": "code",
        "colab": {
          "base_uri": "https://localhost:8080/",
          "height": 420
        },
        "outputId": "de1f96c6-8a1d-4cb4-de74-5c91737d9cb1"
      },
      "source": [
        "data_list=[\"dvd/\",\"books/\",\"electronics/\",\"kitchen_&_housewares/\"]\n",
        "for idx in range(4):\n",
        "\n",
        "    pos_file = data_list[idx] +\"positive.review\"\n",
        "    neg_file = data_list[idx] +\"negative.review\"\n",
        "    \n",
        "    print(\"postive file_name ::: {}\".format(pos_file))\n",
        "    print(\"negative file_name ::: {}\".format(neg_file))\n",
        "    \n",
        "    with open(pos_file,'r',encoding='utf-8') as f:\n",
        "        pos = f.readlines()\n",
        "    with open(neg_file,'r',encoding='utf-8') as f:\n",
        "        neg = f.readlines()\n",
        "    \n",
        "    lst = []\n",
        "    final_pos=[]\n",
        "    final_neg=[]\n",
        "    \n",
        "    for i in range(len(pos)):\n",
        "        if(pos[i]==\"<review_text>\\n\"):\n",
        "            lst.append(i)\n",
        "        elif(pos[i]==\"</review_text>\\n\"):\n",
        "            lst.append(i)   \n",
        "        if(len(lst)==2):\n",
        "            a=pos[ lst[0]+1 : lst[1] ]\n",
        "            stng=\" \".join(a)\n",
        "            lst.clear()\n",
        "            final_pos.append(stng.replace(\"\\n\",\"\"))\n",
        "            \n",
        "    for i in range(len(neg)):\n",
        "        if(neg[i]==\"<review_text>\\n\"):\n",
        "            lst.append(i)\n",
        "        elif(neg[i]==\"</review_text>\\n\"):\n",
        "            lst.append(i)\n",
        "    \n",
        "        if(len(lst)==2):\n",
        "            a=neg[ lst[0]+1 : lst[1] ]\n",
        "            stng=\" \".join(a)\n",
        "            lst.clear()\n",
        "            final_neg.append(stng.replace(\"\\n\",\"\"))\n",
        "     \n",
        "    #print(len(final_pos))\n",
        "    #print(len(final_neg))\n",
        "    \n",
        "    train , test = [], []  \n",
        "    train=final_pos[:int(len(final_pos)*0.8)] + final_neg[:int(len(final_neg)*0.8)]\n",
        "    test=final_pos[int(len(final_pos)*0.8):] + final_neg[int(len(final_neg)*0.8):]\n",
        "    \n",
        "    train_ylabel = [1 for i in range(int(len(final_pos)*0.8))] + [0 for i in range(int(len(final_pos)*0.8))]\n",
        "    \n",
        "    print(\"total number of rows in training file :::: {}\".format(len(train)))\n",
        "    print(\"total number of rows in training file :::: {}\".format(len(test)))\n",
        "    print(len(train_ylabel))\n",
        "    \n",
        "\n",
        "    train_file = data_list[idx]+\"trainnew.txt\"\n",
        "    test_file = data_list[idx]+\"testnew.txt\"\n",
        "    \n",
        "    with open(train_file,'w',encoding='utf-8') as f:\n",
        "        for i in range(len(train)):\n",
        "            f.write(train[i])\n",
        "            f.write(\"\\n\")\n",
        "            \n",
        "    with open(test_file,'w',encoding='utf-8') as f:\n",
        "        for i in range(len(test)):\n",
        "            f.write(test[i])\n",
        "            f.write(\"\\n\")\n",
        "    \n",
        "    print()"
      ],
      "execution_count": 5,
      "outputs": [
        {
          "output_type": "stream",
          "text": [
            "postive file_name ::: dvd/positive.review\n",
            "negative file_name ::: dvd/negative.review\n",
            "total number of rows in training file :::: 1600\n",
            "total number of rows in training file :::: 400\n",
            "1600\n",
            "\n",
            "postive file_name ::: books/positive.review\n",
            "negative file_name ::: books/negative.review\n",
            "total number of rows in training file :::: 1600\n",
            "total number of rows in training file :::: 400\n",
            "1600\n",
            "\n",
            "postive file_name ::: electronics/positive.review\n",
            "negative file_name ::: electronics/negative.review\n",
            "total number of rows in training file :::: 1600\n",
            "total number of rows in training file :::: 400\n",
            "1600\n",
            "\n",
            "postive file_name ::: kitchen_&_housewares/positive.review\n",
            "negative file_name ::: kitchen_&_housewares/negative.review\n",
            "total number of rows in training file :::: 1600\n",
            "total number of rows in training file :::: 400\n",
            "1600\n",
            "\n"
          ],
          "name": "stdout"
        }
      ]
    },
    {
      "cell_type": "markdown",
      "metadata": {
        "id": "JV2DMuoOQSmk",
        "colab_type": "text"
      },
      "source": [
        "### importing nltk library\n",
        "*  for stopwords\n",
        "* Lemmatizer"
      ]
    },
    {
      "cell_type": "code",
      "metadata": {
        "id": "YJ-xnxpmSvAW",
        "colab_type": "code",
        "colab": {
          "base_uri": "https://localhost:8080/",
          "height": 101
        },
        "outputId": "8e49871e-1362-497f-8114-22727939a44e"
      },
      "source": [
        "nltk.download('stopwords')\n",
        "nltk.download('wordnet')"
      ],
      "execution_count": 10,
      "outputs": [
        {
          "output_type": "stream",
          "text": [
            "[nltk_data] Downloading package stopwords to /root/nltk_data...\n",
            "[nltk_data]   Package stopwords is already up-to-date!\n",
            "[nltk_data] Downloading package wordnet to /root/nltk_data...\n",
            "[nltk_data]   Unzipping corpora/wordnet.zip.\n"
          ],
          "name": "stdout"
        },
        {
          "output_type": "execute_result",
          "data": {
            "text/plain": [
              "True"
            ]
          },
          "metadata": {
            "tags": []
          },
          "execution_count": 10
        }
      ]
    },
    {
      "cell_type": "code",
      "metadata": {
        "id": "Rq5punLYdWzS",
        "colab_type": "code",
        "colab": {}
      },
      "source": [
        "import nltk\n",
        "from nltk.stem import WordNetLemmatizer \n",
        "from nltk.corpus import stopwords\n",
        "\n",
        "# Init the Wordnet Lemmatizer\n",
        "lemmatizer = WordNetLemmatizer()    \n",
        "\n",
        "stopwords=set(stopwords.words('english'))        \n",
        "no_stopwords=[\"against\",\"aren't\",\"couldn't\",'didn',\"didn't\", \"doesn't\", \"don't\", 'few', \"hadn't\", \"hasn't\", \"haven't\",\"isn't\" ,'just',\"mightn't\",'more','most',\n",
        " \"mustn't\",\"no\",\"nor\",\"not\",\"needn't\",\"once\",\"out\",\"wasn't\",\"weren't\", \"won't\" , 'won', \"wouldn't\",'why','any','only','very']\n",
        "modified_stopwords=list(set(stopwords) - set(no_stopwords))"
      ],
      "execution_count": 0,
      "outputs": []
    },
    {
      "cell_type": "markdown",
      "metadata": {
        "id": "KHoRiZ0xQgGw",
        "colab_type": "text"
      },
      "source": [
        "## Preprocessing Data"
      ]
    },
    {
      "cell_type": "code",
      "metadata": {
        "id": "lLZjiKGTU_Xs",
        "colab_type": "code",
        "colab": {
          "base_uri": "https://localhost:8080/",
          "height": 118
        },
        "outputId": "76618622-49de-4d38-fad5-7a404db0a3cb"
      },
      "source": [
        "import re\n",
        "\n",
        "#reading file\n",
        "def preprocess(filename):\n",
        "    lst=[]\n",
        "    print(filename)\n",
        "    \n",
        "    for file in filename:\n",
        "      with open(file ,\"r\") as f:\n",
        "        for line in f.read().split('\\n'):\n",
        "          lst.append(line)\n",
        "          \n",
        "    #print(\"length of lst  :::: {} \".format(len(lst)))\n",
        "    lst = [ i.replace(\"aren't\",\"are not\").replace(\"couldn't\",\"could not\").replace(\"wasn't\",\"was not\") for i in lst ]\n",
        "    lst = [ i.replace(\"weren't\",\"were not\").replace(\"mustn't\",\"must not\").replace(\"won't\",\"not\").replace(\"wouldn't\",\"would not\") for i in lst ]\n",
        "    lst = [re.sub(r'[^a-zA-Z ]',r'' , (\" \".join([lemmatizer.lemmatize(i.lower()) for i in line.split()  if i not in modified_stopwords])) ) for line in lst ]\n",
        "    lst = [line for line in lst if line!='']\n",
        "    #lst = lst[:-1]\n",
        "    \n",
        "    return lst\n",
        "    \n",
        "\n",
        "x_train=preprocess([\"dvd/trainnew.txt\",\"books/trainnew.txt\",\"electronics/trainnew.txt\",\"kitchen_&_housewares/trainnew.txt\"])\n",
        "x_test=preprocess([\"dvd/testnew.txt\",\"books/testnew.txt\",\"electronics/testnew.txt\",\"kitchen_&_housewares/testnew.txt\"])\n",
        "\n",
        "y_train=[]\n",
        "y_train= [1 if(i<800) else 0 for i in range(1600)]*4\n",
        "y_test= [1 if(i<200) else 0 for i in range(400)]*4\n",
        "\n",
        "print(\"length of x_train ::: {}\".format(len(x_train)))\n",
        "print(\"length of x_test ::: {}\".format(len(x_test)))\n",
        "print(\"length of y_train ::: {}\".format(len(y_train)))\n",
        "print(\"length of y_test ::: {}\".format(len(y_test)))"
      ],
      "execution_count": 12,
      "outputs": [
        {
          "output_type": "stream",
          "text": [
            "['dvd/trainnew.txt', 'books/trainnew.txt', 'electronics/trainnew.txt', 'kitchen_&_housewares/trainnew.txt']\n",
            "['dvd/testnew.txt', 'books/testnew.txt', 'electronics/testnew.txt', 'kitchen_&_housewares/testnew.txt']\n",
            "length of x_train ::: 6400\n",
            "length of x_test ::: 1600\n",
            "length of y_train ::: 6400\n",
            "length of y_test ::: 1600\n"
          ],
          "name": "stdout"
        }
      ]
    },
    {
      "cell_type": "markdown",
      "metadata": {
        "id": "aYvmenNGQogW",
        "colab_type": "text"
      },
      "source": [
        "## Coverting Text Data into Vector Using TFIDF Vectorizer"
      ]
    },
    {
      "cell_type": "code",
      "metadata": {
        "id": "07e5XDdLiG_9",
        "colab_type": "code",
        "colab": {
          "base_uri": "https://localhost:8080/",
          "height": 151
        },
        "outputId": "da5d6f57-b679-47a5-fa8c-e7f1a1754294"
      },
      "source": [
        "tf_idf_vect = TfidfVectorizer(ngram_range=(1,2), min_df=10, max_df=0.95,stop_words='english',max_features=50000 )\n",
        "tf_idf_vect.fit(x_train)\n",
        "print(\"some sample features(unique words in the corpus)\",tf_idf_vect.get_feature_names()[0:10])\n",
        "print('='*50)\n",
        "\n",
        "X_train_tfidf= tf_idf_vect.transform(x_train)\n",
        "print(\"the type of count vectorizer \",type(X_train_tfidf))\n",
        "print(\"the shape of out text TFIDF vectorizer \",X_train_tfidf.get_shape())\n",
        "print(\"the number of unique words including both unigrams and bigrams \", X_train_tfidf.get_shape()[1])\n",
        "\n",
        "X_test_tfidf = tf_idf_vect.transform(x_test)\n",
        "print(\"the type of count vectorizer \",type(X_test_tfidf))\n",
        "print(\"the shape of out text TFIDF vectorizer \",X_test_tfidf.get_shape())\n",
        "print(\"the number of unique words \", X_test_tfidf.get_shape()[1])\n"
      ],
      "execution_count": 13,
      "outputs": [
        {
          "output_type": "stream",
          "text": [
            "some sample features(unique words in the corpus) ['aa', 'aaa', 'abandoned', 'ability', 'able', 'able use', 'absence', 'absolute', 'absolutely', 'absolutely love']\n",
            "==================================================\n",
            "the type of count vectorizer  <class 'scipy.sparse.csr.csr_matrix'>\n",
            "the shape of out text TFIDF vectorizer  (6400, 5608)\n",
            "the number of unique words including both unigrams and bigrams  5608\n",
            "the type of count vectorizer  <class 'scipy.sparse.csr.csr_matrix'>\n",
            "the shape of out text TFIDF vectorizer  (1600, 5608)\n",
            "the number of unique words  5608\n"
          ],
          "name": "stdout"
        }
      ]
    },
    {
      "cell_type": "markdown",
      "metadata": {
        "id": "NNfva4utQ0UH",
        "colab_type": "text"
      },
      "source": [
        "### Applying Standard Scalar"
      ]
    },
    {
      "cell_type": "code",
      "metadata": {
        "id": "vsBAmdDWjbMI",
        "colab_type": "code",
        "colab": {}
      },
      "source": [
        "from sklearn.preprocessing import StandardScaler\n",
        "scaler = StandardScaler(with_mean=False)\n",
        "scaler.fit(X_train_tfidf)\n",
        "\n",
        "X_train_tfidf=scaler.transform(X_train_tfidf)\n",
        "X_test_tfidf=scaler.transform(X_test_tfidf)"
      ],
      "execution_count": 0,
      "outputs": []
    },
    {
      "cell_type": "markdown",
      "metadata": {
        "id": "oyYv805eQ5An",
        "colab_type": "text"
      },
      "source": [
        "## Applying LogisticRegression using penalty ='L2'"
      ]
    },
    {
      "cell_type": "markdown",
      "metadata": {
        "id": "C1tdTJTvRS20",
        "colab_type": "text"
      },
      "source": [
        "### Finding Best HyperParaneter"
      ]
    },
    {
      "cell_type": "code",
      "metadata": {
        "id": "72QJaGoHjqRS",
        "colab_type": "code",
        "colab": {
          "base_uri": "https://localhost:8080/",
          "height": 50
        },
        "outputId": "2b68b9c8-c0eb-4935-b5da-b3246ac067d2"
      },
      "source": [
        "from sklearn.linear_model import LogisticRegression\n",
        "from sklearn.model_selection import GridSearchCV\n",
        "from sklearn.model_selection import RandomizedSearchCV\n",
        "\n",
        "clf=LogisticRegression(penalty='l2')\n",
        "param_grid={'C':[1000,100,10,1,0.1,0.001,0.0001,0.00001]}\n",
        "\n",
        "gcv=GridSearchCV(clf,param_grid,cv=5,scoring='roc_auc')\n",
        "gcv.fit(X_train_tfidf,y_train)\n",
        "print(gcv.best_params_)\n",
        "print(gcv.best_score_)"
      ],
      "execution_count": 15,
      "outputs": [
        {
          "output_type": "stream",
          "text": [
            "{'C': 0.0001}\n",
            "0.86902001953125\n"
          ],
          "name": "stdout"
        }
      ]
    },
    {
      "cell_type": "markdown",
      "metadata": {
        "id": "64uCtaQHootT",
        "colab_type": "text"
      },
      "source": [
        "#### https://stackoverflow.com/questions/22851316/what-is-the-inverse-of-regularization-strength-in-logistic-regression-how-shoul"
      ]
    },
    {
      "cell_type": "markdown",
      "metadata": {
        "id": "-boE3Ks0RWZR",
        "colab_type": "text"
      },
      "source": [
        "### Ploting Graph between HyperParamers and ROC_AUC Metric"
      ]
    },
    {
      "cell_type": "code",
      "metadata": {
        "id": "B7RfIxmGjsiH",
        "colab_type": "code",
        "colab": {
          "base_uri": "https://localhost:8080/",
          "height": 351
        },
        "outputId": "94f5b86c-73c0-45f5-bc82-64febdf53625"
      },
      "source": [
        "import math\n",
        "hyper_parameters=gcv.get_params()['param_grid']['C']\n",
        "#train_scores=gcv.cv_results_['mean_train_score'].tolist()\n",
        "test_scores=gcv.cv_results_['mean_test_score'].tolist()\n",
        "\n",
        "print(hyper_parameters)\n",
        "print(test_scores)\n",
        "#print(train_scores)\n",
        "\n",
        "log_hyper_parameters=[math.log(i) for i in hyper_parameters]\n",
        "print(log_hyper_parameters)\n",
        "\n",
        "#plt.plot( =gcv.cv_results_ ,train_scores , label='Train plot')\n",
        "plt.plot( log_hyper_parameters ,test_scores , color='green', linestyle='dashed', linewidth = 3,marker='o', markerfacecolor='blue', markersize=12,  label='Test plot')\n",
        "plt.xlabel(\"hyper_parameters (C)\")\n",
        "plt.ylabel(\"Model performance\")\n",
        "\n",
        "plt.legend()"
      ],
      "execution_count": 17,
      "outputs": [
        {
          "output_type": "stream",
          "text": [
            "[1000, 100, 10, 1, 0.1, 0.001, 0.0001, 1e-05]\n",
            "[0.7673051757812499, 0.7768017578125, 0.8024301757812501, 0.809580078125, 0.8161708984375001, 0.8534819335937499, 0.86902001953125, 0.8686088867187499]\n",
            "[6.907755278982137, 4.605170185988092, 2.302585092994046, 0.0, -2.3025850929940455, -6.907755278982137, -9.210340371976182, -11.512925464970229]\n"
          ],
          "name": "stdout"
        },
        {
          "output_type": "execute_result",
          "data": {
            "text/plain": [
              "<matplotlib.legend.Legend at 0x7fa2e8eb7198>"
            ]
          },
          "metadata": {
            "tags": []
          },
          "execution_count": 17
        },
        {
          "output_type": "display_data",
          "data": {
            "image/png": "[encoded data removed]",
            "text/plain": [
              "<Figure size 432x288 with 1 Axes>"
            ]
          },
          "metadata": {
            "tags": []
          }
        }
      ]
    },
    {
      "cell_type": "markdown",
      "metadata": {
        "id": "htxQ7GZrsxuN",
        "colab_type": "text"
      },
      "source": [
        "### Finding Metrics values , ploting ROC_AUC Curve and Confuion MAtrix"
      ]
    },
    {
      "cell_type": "code",
      "metadata": {
        "id": "K9A63kKnjy40",
        "colab_type": "code",
        "colab": {
          "base_uri": "https://localhost:8080/",
          "height": 1000
        },
        "outputId": "b9db1844-fa61-411c-a456-2e094e9a970d"
      },
      "source": [
        "clf1=LogisticRegression(C=0.1,penalty='l1')\n",
        "clf1.fit(X_train_tfidf,y_train)\n",
        "pred_train=clf1.predict(X_train_tfidf)\n",
        "pred=clf1.predict(X_test_tfidf)\n",
        "print(pred)\n",
        "\n",
        "print(\"Accuracy Score : \",accuracy_score(y_test,pred)*100)\n",
        "print(\"Precision Score : \",precision_score(y_test,pred)*100)\n",
        "print(\"Recall Score : \",recall_score(y_test,pred)*100)\n",
        "print(\"F1 Score : \",f1_score(y_test,pred)*100)\n",
        "\n",
        "print(\"        \")  \n",
        "print(\"Classification Report\")\n",
        "print(classification_report(y_test,pred))\n",
        "print(\"        \")  \n",
        "\n",
        "fpr_train,tpr_train,thresholds_train=roc_curve(y_train,pred_train)\n",
        "print(\"AUC Score for train data :\",metrics.auc(fpr_train,tpr_train))\n",
        "\n",
        "fpr,tpr,thresholds=roc_curve(y_test,pred)\n",
        "print(\"AUC Score for test data :\",metrics.auc(fpr,tpr))\n",
        "\n",
        "print(\"        \")  \n",
        "\n",
        "#y_true = # ground truth labels\n",
        "#y_probas = # predicted probabilities generated by sklearn classifier\n",
        "#skplt.metrics.plot_roc_curve(y_true, y_probas)\n",
        "#plt.show()\n",
        "\n",
        "\n",
        "\n",
        "plt.figure()\n",
        "lw = 2\n",
        "plt.plot(fpr, tpr, color='red',\n",
        "         lw=lw,label='test')\n",
        "plt.plot(fpr_train, tpr_train, color='darkorange',\n",
        "         lw=lw,label='train')\n",
        "plt.plot([0, 1], [0, 1], color='navy', lw=lw, linestyle='--')\n",
        "plt.xlim([0.0, 1.0])\n",
        "plt.ylim([0.0, 1.05])\n",
        "plt.xlabel('False Positive Rate')\n",
        "plt.ylabel('True Positive Rate')\n",
        "plt.title('Receiver operating characteristic example')\n",
        "plt.legend(loc=\"lower right\")\n",
        "plt.show()\n",
        "\n",
        "\n",
        "print(\"       \")\n",
        "\n",
        "tn, fp, fn, tp=confusion_matrix(y_test,pred).ravel()\n",
        "print(\"\"\"\n",
        "TrueNegative : {}\n",
        "FalsePostive : {}\n",
        "FalseNegative : {}\n",
        "TruePostive  :  {}\"\"\".format(tn, fp, fn, tp))\n",
        "print(\"        \")  \n",
        "print(\"        \")  \n",
        "\n",
        "confusionmatrix_DF=pd.DataFrame(confusion_matrix(y_test,pred),columns=['0','1'],index=['0','1'])\n",
        "sns.heatmap(confusionmatrix_DF,annot=True,fmt='g',cmap='viridis')\n",
        "plt.title(\"Confusion matrix \")\n",
        "plt.show()\n"
      ],
      "execution_count": 18,
      "outputs": [
        {
          "output_type": "stream",
          "text": [
            "[1 1 1 ... 1 1 0]\n",
            "Accuracy Score :  80.3125\n",
            "Precision Score :  79.53714981729598\n",
            "Recall Score :  81.625\n",
            "F1 Score :  80.56755089450957\n",
            "        \n",
            "Classification Report\n",
            "              precision    recall  f1-score   support\n",
            "\n",
            "           0       0.81      0.79      0.80       800\n",
            "           1       0.80      0.82      0.81       800\n",
            "\n",
            "    accuracy                           0.80      1600\n",
            "   macro avg       0.80      0.80      0.80      1600\n",
            "weighted avg       0.80      0.80      0.80      1600\n",
            "\n",
            "        \n",
            "AUC Score for train data : 0.9940625000000001\n",
            "AUC Score for test data : 0.8031250000000001\n",
            "        \n"
          ],
          "name": "stdout"
        },
        {
          "output_type": "display_data",
          "data": {
            "image/png": "[encoded data removed]",
            "text/plain": [
              "<Figure size 432x288 with 1 Axes>"
            ]
          },
          "metadata": {
            "tags": []
          }
        },
        {
          "output_type": "stream",
          "text": [
            "       \n",
            "\n",
            "TrueNegative : 632\n",
            "FalsePostive : 168\n",
            "FalseNegative : 147\n",
            "TruePostive  :  653\n",
            "        \n",
            "        \n"
          ],
          "name": "stdout"
        },
        {
          "output_type": "display_data",
          "data": {
            "image/png": "[encoded data removed]",
            "text/plain": [
              "<Figure size 432x288 with 2 Axes>"
            ]
          },
          "metadata": {
            "tags": []
          }
        }
      ]
    },
    {
      "cell_type": "markdown",
      "metadata": {
        "id": "vje9MVfWRzOZ",
        "colab_type": "text"
      },
      "source": [
        "## Important Features on TFIDF"
      ]
    },
    {
      "cell_type": "code",
      "metadata": {
        "id": "-_CWagNdlAzN",
        "colab_type": "code",
        "colab": {
          "base_uri": "https://localhost:8080/",
          "height": 639
        },
        "outputId": "66a4a249-3b41-4408-9e2c-2992acb22f2c"
      },
      "source": [
        "feature_names=tf_idf_vect.get_feature_names()\n",
        "coefs=sorted(zip(clf1.coef_[0],feature_names))\n",
        "\n",
        "top20Negative=coefs[:20]\n",
        "top20Postive=coefs[::-1][:20]\n",
        "\n",
        "res_neg=pd.DataFrame(top20Negative,columns=['values','NegativeFeatures'])\n",
        "res_pos=pd.DataFrame(top20Postive,columns=['values','PostiveFeatures'])\n",
        "pd.concat([res_neg,res_pos],axis=1)"
      ],
      "execution_count": 83,
      "outputs": [
        {
          "output_type": "execute_result",
          "data": {
            "text/html": [
              "<div>\n",
              "<style scoped>\n",
              "    .dataframe tbody tr th:only-of-type {\n",
              "        vertical-align: middle;\n",
              "    }\n",
              "\n",
              "    .dataframe tbody tr th {\n",
              "        vertical-align: top;\n",
              "    }\n",
              "\n",
              "    .dataframe thead th {\n",
              "        text-align: right;\n",
              "    }\n",
              "</style>\n",
              "<table border=\"1\" class=\"dataframe\">\n",
              "  <thead>\n",
              "    <tr style=\"text-align: right;\">\n",
              "      <th></th>\n",
              "      <th>values</th>\n",
              "      <th>NegativeFeatures</th>\n",
              "      <th>values</th>\n",
              "      <th>PostiveFeatures</th>\n",
              "    </tr>\n",
              "  </thead>\n",
              "  <tbody>\n",
              "    <tr>\n",
              "      <th>0</th>\n",
              "      <td>-0.722997</td>\n",
              "      <td>waste</td>\n",
              "      <td>0.445144</td>\n",
              "      <td>great</td>\n",
              "    </tr>\n",
              "    <tr>\n",
              "      <th>1</th>\n",
              "      <td>-0.453383</td>\n",
              "      <td>worst</td>\n",
              "      <td>0.400175</td>\n",
              "      <td>best</td>\n",
              "    </tr>\n",
              "    <tr>\n",
              "      <th>2</th>\n",
              "      <td>-0.415952</td>\n",
              "      <td>poorly</td>\n",
              "      <td>0.394056</td>\n",
              "      <td>excellent</td>\n",
              "    </tr>\n",
              "    <tr>\n",
              "      <th>3</th>\n",
              "      <td>-0.373487</td>\n",
              "      <td>disappointment</td>\n",
              "      <td>0.361625</td>\n",
              "      <td>love</td>\n",
              "    </tr>\n",
              "    <tr>\n",
              "      <th>4</th>\n",
              "      <td>-0.364532</td>\n",
              "      <td>boring</td>\n",
              "      <td>0.286665</td>\n",
              "      <td>easy</td>\n",
              "    </tr>\n",
              "    <tr>\n",
              "      <th>5</th>\n",
              "      <td>-0.314739</td>\n",
              "      <td>bad</td>\n",
              "      <td>0.265113</td>\n",
              "      <td>perfect</td>\n",
              "    </tr>\n",
              "    <tr>\n",
              "      <th>6</th>\n",
              "      <td>-0.312126</td>\n",
              "      <td>disappointed</td>\n",
              "      <td>0.239801</td>\n",
              "      <td>amazing</td>\n",
              "    </tr>\n",
              "    <tr>\n",
              "      <th>7</th>\n",
              "      <td>-0.301654</td>\n",
              "      <td>returned</td>\n",
              "      <td>0.225382</td>\n",
              "      <td>glad</td>\n",
              "    </tr>\n",
              "    <tr>\n",
              "      <th>8</th>\n",
              "      <td>-0.297983</td>\n",
              "      <td>refund</td>\n",
              "      <td>0.207868</td>\n",
              "      <td>price</td>\n",
              "    </tr>\n",
              "    <tr>\n",
              "      <th>9</th>\n",
              "      <td>-0.268643</td>\n",
              "      <td>return</td>\n",
              "      <td>0.194073</td>\n",
              "      <td>intense</td>\n",
              "    </tr>\n",
              "    <tr>\n",
              "      <th>10</th>\n",
              "      <td>-0.258106</td>\n",
              "      <td>disappointing</td>\n",
              "      <td>0.178890</td>\n",
              "      <td>highly</td>\n",
              "    </tr>\n",
              "    <tr>\n",
              "      <th>11</th>\n",
              "      <td>-0.255621</td>\n",
              "      <td>stupid</td>\n",
              "      <td>0.176055</td>\n",
              "      <td>favorite</td>\n",
              "    </tr>\n",
              "    <tr>\n",
              "      <th>12</th>\n",
              "      <td>-0.249831</td>\n",
              "      <td>terrible</td>\n",
              "      <td>0.168242</td>\n",
              "      <td>satisfied</td>\n",
              "    </tr>\n",
              "    <tr>\n",
              "      <th>13</th>\n",
              "      <td>-0.249437</td>\n",
              "      <td>started</td>\n",
              "      <td>0.159812</td>\n",
              "      <td>superb</td>\n",
              "    </tr>\n",
              "    <tr>\n",
              "      <th>14</th>\n",
              "      <td>-0.245015</td>\n",
              "      <td>poor</td>\n",
              "      <td>0.159524</td>\n",
              "      <td>depending</td>\n",
              "    </tr>\n",
              "    <tr>\n",
              "      <th>15</th>\n",
              "      <td>-0.224941</td>\n",
              "      <td>unfortunately</td>\n",
              "      <td>0.156996</td>\n",
              "      <td>beautifully</td>\n",
              "    </tr>\n",
              "    <tr>\n",
              "      <th>16</th>\n",
              "      <td>-0.214484</td>\n",
              "      <td>crap</td>\n",
              "      <td>0.156758</td>\n",
              "      <td>family</td>\n",
              "    </tr>\n",
              "    <tr>\n",
              "      <th>17</th>\n",
              "      <td>-0.211999</td>\n",
              "      <td>pathetic</td>\n",
              "      <td>0.148297</td>\n",
              "      <td>extra</td>\n",
              "    </tr>\n",
              "    <tr>\n",
              "      <th>18</th>\n",
              "      <td>-0.211398</td>\n",
              "      <td>returning</td>\n",
              "      <td>0.146014</td>\n",
              "      <td>work great</td>\n",
              "    </tr>\n",
              "    <tr>\n",
              "      <th>19</th>\n",
              "      <td>-0.208729</td>\n",
              "      <td>tried</td>\n",
              "      <td>0.143746</td>\n",
              "      <td>wonderful</td>\n",
              "    </tr>\n",
              "  </tbody>\n",
              "</table>\n",
              "</div>"
            ],
            "text/plain": [
              "      values NegativeFeatures    values PostiveFeatures\n",
              "0  -0.722997            waste  0.445144           great\n",
              "1  -0.453383            worst  0.400175            best\n",
              "2  -0.415952           poorly  0.394056       excellent\n",
              "3  -0.373487   disappointment  0.361625            love\n",
              "4  -0.364532           boring  0.286665            easy\n",
              "5  -0.314739              bad  0.265113         perfect\n",
              "6  -0.312126     disappointed  0.239801         amazing\n",
              "7  -0.301654         returned  0.225382            glad\n",
              "8  -0.297983           refund  0.207868           price\n",
              "9  -0.268643           return  0.194073         intense\n",
              "10 -0.258106    disappointing  0.178890          highly\n",
              "11 -0.255621           stupid  0.176055        favorite\n",
              "12 -0.249831         terrible  0.168242       satisfied\n",
              "13 -0.249437          started  0.159812          superb\n",
              "14 -0.245015             poor  0.159524       depending\n",
              "15 -0.224941    unfortunately  0.156996     beautifully\n",
              "16 -0.214484             crap  0.156758          family\n",
              "17 -0.211999         pathetic  0.148297           extra\n",
              "18 -0.211398        returning  0.146014      work great\n",
              "19 -0.208729            tried  0.143746       wonderful"
            ]
          },
          "metadata": {
            "tags": []
          },
          "execution_count": 83
        }
      ]
    },
    {
      "cell_type": "markdown",
      "metadata": {
        "id": "_qkBBEvJtADM",
        "colab_type": "text"
      },
      "source": [
        "## Predicting unlabeled Reviews"
      ]
    },
    {
      "cell_type": "code",
      "metadata": {
        "id": "UxX_dvolUiO2",
        "colab_type": "code",
        "colab": {
          "base_uri": "https://localhost:8080/",
          "height": 118
        },
        "outputId": "548c0640-ba7e-454f-dce7-a7d36ecfc0bf"
      },
      "source": [
        "data_list=[\"dvd/\",\"electronics/\",\"kitchen_&_housewares/\"]\n",
        "final_unlabeled=[]\n",
        "for idx in range(3):\n",
        "\n",
        "    unlabeled_file = data_list[idx] +\"unlabeled.review\"\n",
        "    \n",
        "    print(\"unlabeled_file file_name ::: {}\".format(unlabeled_file))\n",
        "    \n",
        "    with open(unlabeled_file,'r',encoding='utf-8') as f:\n",
        "        unlabeled = f.readlines()\n",
        "    \n",
        "    lst = []\n",
        "   \n",
        "    for i in range(len(unlabeled)):\n",
        "        if(unlabeled[i]==\"<review_text>\\n\"):\n",
        "            lst.append(i)\n",
        "        elif(unlabeled[i]==\"</review_text>\\n\"):\n",
        "            lst.append(i)   \n",
        "        if(len(lst)==2):\n",
        "            a=unlabeled[ lst[0]+1 : lst[1] ]\n",
        "            stng=\" \".join(a)\n",
        "            lst.clear()\n",
        "            final_unlabeled.append(stng.replace(\"\\n\",\"\"))\n",
        "            \n",
        "    \n",
        "    print(\"total number of rows in final_unlabeled file :::: {}\".format(len(final_unlabeled)))\n"
      ],
      "execution_count": 27,
      "outputs": [
        {
          "output_type": "stream",
          "text": [
            "unlabeled_file file_name ::: dvd/unlabeled.review\n",
            "total number of rows in final_unlabeled file :::: 34741\n",
            "unlabeled_file file_name ::: electronics/unlabeled.review\n",
            "total number of rows in final_unlabeled file :::: 47894\n",
            "unlabeled_file file_name ::: kitchen_&_housewares/unlabeled.review\n",
            "total number of rows in final_unlabeled file :::: 64679\n"
          ],
          "name": "stdout"
        }
      ]
    },
    {
      "cell_type": "code",
      "metadata": {
        "id": "H64Qg-z7VZ75",
        "colab_type": "code",
        "colab": {}
      },
      "source": [
        "#x_test=preprocess([\"dvd/unlabeled.review\",\"electronics/unlabeled.review\",\"kitchen_&_housewares/unlabeled.review\"])\n",
        "final_unlabeled = [ i.replace(\"aren't\",\"are not\").replace(\"couldn't\",\"could not\").replace(\"wasn't\",\"was not\") for i in final_unlabeled ]\n",
        "final_unlabeled = [ i.replace(\"weren't\",\"were not\").replace(\"mustn't\",\"must not\").replace(\"won't\",\"not\").replace(\"wouldn't\",\"would not\") for i in final_unlabeled ]\n",
        "final_unlabeled = [re.sub(r'[^a-zA-Z ]',r'' , (\" \".join([lemmatizer.lemmatize(i.lower()) for i in line.split()  if i not in modified_stopwords])) ) for line in final_unlabeled ]\n",
        "final_unlabeled = [line for line in final_unlabeled if line!='']"
      ],
      "execution_count": 0,
      "outputs": []
    },
    {
      "cell_type": "code",
      "metadata": {
        "id": "i9RU_4lbbn_D",
        "colab_type": "code",
        "colab": {}
      },
      "source": [
        "unlabeled_tfidf     =  tf_idf_vect.transform(final_unlabeled)\n",
        "unlabeled_tfidf     =  scaler.transform(unlabeled_tfidf)\n",
        "unlabel_predicted   =  clf1.predict(unlabeled_tfidf)"
      ],
      "execution_count": 0,
      "outputs": []
    },
    {
      "cell_type": "markdown",
      "metadata": {
        "id": "Z4-GB3cwtJAL",
        "colab_type": "text"
      },
      "source": [
        "## Storing Unlabled predicted reviews in a file\n",
        "1. storing unlabeled_postive_reviews in unlabeled_postive_review file\n",
        "2. storing unlabeled_negative_reviews in unlabeled_negativee_review file"
      ]
    },
    {
      "cell_type": "code",
      "metadata": {
        "id": "0Oqr0enLeKzJ",
        "colab_type": "code",
        "colab": {}
      },
      "source": [
        "predicted=unlabel_predicted.tolist()\n",
        "\n",
        "neg_index  =  [index for index in range(len(predicted)) if(predicted[index]==0)]\n",
        "pos_index  =  [index for index in range(len(predicted)) if(predicted[index]==1)]\n",
        "\n",
        "with open(\"unlabeled_postive_review\",'w',encoding='utf-8') as f:\n",
        "  for i in range(len(pos_index)):\n",
        "    f.write(final_unlabeled[i])\n",
        "    f.write(\"\\n\")\n",
        "    \n",
        "with open(\"unlabeled_negative_review\",'w',encoding='utf-8') as f:\n",
        "  for i in range(len(neg_index)):\n",
        "    f.write(final_unlabeled[i])\n",
        "    f.write(\"\\n\")"
      ],
      "execution_count": 0,
      "outputs": []
    }
  ]
}